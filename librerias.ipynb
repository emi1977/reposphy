{
 "cells": [
  {
   "cell_type": "code",
   "execution_count": 1,
   "metadata": {},
   "outputs": [
    {
     "data": {
      "text/plain": [
       "3.141592653589793"
      ]
     },
     "execution_count": 1,
     "metadata": {},
     "output_type": "execute_result"
    }
   ],
   "source": [
    "import math\n",
    "math.pi"
   ]
  },
  {
   "cell_type": "code",
   "execution_count": 2,
   "metadata": {},
   "outputs": [
    {
     "name": "stdout",
     "output_type": "stream",
     "text": [
      "3.141592653589793\n",
      "nan\n"
     ]
    }
   ],
   "source": [
    "from math import pi, nan\n",
    "print(pi)\n",
    "print(nan)\n",
    "\n"
   ]
  },
  {
   "cell_type": "code",
   "execution_count": 3,
   "metadata": {},
   "outputs": [
    {
     "name": "stdout",
     "output_type": "stream",
     "text": [
      "500\n"
     ]
    }
   ],
   "source": [
    "import statistics as st #le doy un alias\n",
    "nums=list(range(1,1000))\n",
    "m=st.mean(nums)\n",
    "print(m)"
   ]
  },
  {
   "cell_type": "markdown",
   "metadata": {},
   "source": [
    "Files\n"
   ]
  },
  {
   "cell_type": "code",
   "execution_count": 4,
   "metadata": {},
   "outputs": [
    {
     "ename": "NotADirectoryError",
     "evalue": "[Errno 20] Not a directory: 'files/sample.txt'",
     "output_type": "error",
     "traceback": [
      "\u001b[0;31m---------------------------------------------------------------------------\u001b[0m",
      "\u001b[0;31mNotADirectoryError\u001b[0m                        Traceback (most recent call last)",
      "Cell \u001b[0;32mIn[4], line 5\u001b[0m\n\u001b[1;32m      1\u001b[0m texto\u001b[38;5;241m=\u001b[39m\u001b[38;5;124m\"\"\"\u001b[39m\u001b[38;5;124meste es un texto\u001b[39m\n\u001b[1;32m      2\u001b[0m \u001b[38;5;124mque contienen\u001b[39m\n\u001b[1;32m      3\u001b[0m \u001b[38;5;124mmultiples líneas\u001b[39m\n\u001b[1;32m      4\u001b[0m \u001b[38;5;124m\"\"\"\u001b[39m\n\u001b[0;32m----> 5\u001b[0m \u001b[38;5;28;43mopen\u001b[39;49m\u001b[43m(\u001b[49m\u001b[38;5;124;43m'\u001b[39;49m\u001b[38;5;124;43mfiles/sample.txt\u001b[39;49m\u001b[38;5;124;43m'\u001b[39;49m\u001b[43m,\u001b[49m\u001b[43m \u001b[49m\u001b[38;5;124;43m'\u001b[39;49m\u001b[38;5;124;43mw\u001b[39;49m\u001b[38;5;124;43m'\u001b[39;49m\u001b[43m)\u001b[49m\n\u001b[1;32m      6\u001b[0m fout\u001b[38;5;241m=\u001b[39m\u001b[38;5;28mopen\u001b[39m(\u001b[38;5;124m'\u001b[39m\u001b[38;5;124mfiles/sample.txt\u001b[39m\u001b[38;5;124m'\u001b[39m, \u001b[38;5;124m'\u001b[39m\u001b[38;5;124mw\u001b[39m\u001b[38;5;124m'\u001b[39m)\n\u001b[1;32m      7\u001b[0m \u001b[38;5;28mtype\u001b[39m(fout)\n",
      "File \u001b[0;32m/anaconda/envs/jupyter_env/lib/python3.10/site-packages/IPython/core/interactiveshell.py:324\u001b[0m, in \u001b[0;36m_modified_open\u001b[0;34m(file, *args, **kwargs)\u001b[0m\n\u001b[1;32m    317\u001b[0m \u001b[38;5;28;01mif\u001b[39;00m file \u001b[38;5;129;01min\u001b[39;00m {\u001b[38;5;241m0\u001b[39m, \u001b[38;5;241m1\u001b[39m, \u001b[38;5;241m2\u001b[39m}:\n\u001b[1;32m    318\u001b[0m     \u001b[38;5;28;01mraise\u001b[39;00m \u001b[38;5;167;01mValueError\u001b[39;00m(\n\u001b[1;32m    319\u001b[0m         \u001b[38;5;124mf\u001b[39m\u001b[38;5;124m\"\u001b[39m\u001b[38;5;124mIPython won\u001b[39m\u001b[38;5;124m'\u001b[39m\u001b[38;5;124mt let you open fd=\u001b[39m\u001b[38;5;132;01m{\u001b[39;00mfile\u001b[38;5;132;01m}\u001b[39;00m\u001b[38;5;124m by default \u001b[39m\u001b[38;5;124m\"\u001b[39m\n\u001b[1;32m    320\u001b[0m         \u001b[38;5;124m\"\u001b[39m\u001b[38;5;124mas it is likely to crash IPython. If you know what you are doing, \u001b[39m\u001b[38;5;124m\"\u001b[39m\n\u001b[1;32m    321\u001b[0m         \u001b[38;5;124m\"\u001b[39m\u001b[38;5;124myou can use builtins\u001b[39m\u001b[38;5;124m'\u001b[39m\u001b[38;5;124m open.\u001b[39m\u001b[38;5;124m\"\u001b[39m\n\u001b[1;32m    322\u001b[0m     )\n\u001b[0;32m--> 324\u001b[0m \u001b[38;5;28;01mreturn\u001b[39;00m \u001b[43mio_open\u001b[49m\u001b[43m(\u001b[49m\u001b[43mfile\u001b[49m\u001b[43m,\u001b[49m\u001b[43m \u001b[49m\u001b[38;5;241;43m*\u001b[39;49m\u001b[43margs\u001b[49m\u001b[43m,\u001b[49m\u001b[43m \u001b[49m\u001b[38;5;241;43m*\u001b[39;49m\u001b[38;5;241;43m*\u001b[39;49m\u001b[43mkwargs\u001b[49m\u001b[43m)\u001b[49m\n",
      "\u001b[0;31mNotADirectoryError\u001b[0m: [Errno 20] Not a directory: 'files/sample.txt'"
     ]
    }
   ],
   "source": [
    "texto=\"\"\"este es un texto\n",
    "que contienen\n",
    "multiples líneas\n",
    "\"\"\"\n",
    "open('files/sample.txt', 'w')\n",
    "fout=open('files/sample.txt', 'w')\n",
    "type(fout)"
   ]
  },
  {
   "cell_type": "code",
   "execution_count": 21,
   "metadata": {},
   "outputs": [],
   "source": [
    "texto=\"\"\"este es un texto\n",
    "que contienen\n",
    "multiples líneas\n",
    "\"\"\"\n",
    "raiz= '/home/azureuser/cloudfiles/code/Users/training.netmindemi/workspace/reposphy/files/'\n",
    "f_out=open(raiz + \"sample.txt\", 'w')\n",
    "\n",
    "f_out.write(texto)\n",
    "f_out.close()"
   ]
  },
  {
   "cell_type": "code",
   "execution_count": null,
   "metadata": {},
   "outputs": [],
   "source": []
  },
  {
   "cell_type": "code",
   "execution_count": 22,
   "metadata": {},
   "outputs": [
    {
     "name": "stdout",
     "output_type": "stream",
     "text": [
      "['este es un texto\\n', 'que contienen\\n', 'multiples líneas\\n']\n"
     ]
    }
   ],
   "source": [
    "try:\n",
    "    lista=open(raiz + \"sample.txt\", 'r').readlines()\n",
    "    print(lista)\n",
    "except Error as err:\n",
    "    print('problema con acceso al archivo')"
   ]
  },
  {
   "cell_type": "code",
   "execution_count": 23,
   "metadata": {},
   "outputs": [
    {
     "name": "stdout",
     "output_type": "stream",
     "text": [
      "este es un texto\n",
      "que contienen\n",
      "multiples líneas\n",
      "\n"
     ]
    }
   ],
   "source": [
    "try:\n",
    "    texto=open(raiz + \"sample.txt\", 'r').read()\n",
    "    print(texto)\n",
    "except Error as err:\n",
    "    print('problema con acceso al archivo')"
   ]
  },
  {
   "cell_type": "code",
   "execution_count": 24,
   "metadata": {},
   "outputs": [],
   "source": [
    "import os"
   ]
  },
  {
   "cell_type": "code",
   "execution_count": 25,
   "metadata": {},
   "outputs": [
    {
     "name": "stdout",
     "output_type": "stream",
     "text": [
      "borrado\n"
     ]
    }
   ],
   "source": [
    "f_path=raiz + \"sample.txt\"\n",
    "isoK=os.path.isfile(f_path)\n",
    "if isoK:\n",
    "    os.remove(f_path)\n",
    "    print('borrado')\n",
    "else:print('no existe')"
   ]
  },
  {
   "cell_type": "code",
   "execution_count": 27,
   "metadata": {},
   "outputs": [
    {
     "ename": "KeyError",
     "evalue": "'nombre'",
     "output_type": "error",
     "traceback": [
      "\u001b[0;31m---------------------------------------------------------------------------\u001b[0m",
      "\u001b[0;31mKeyError\u001b[0m                                  Traceback (most recent call last)",
      "Cell \u001b[0;32mIn[27], line 41\u001b[0m\n\u001b[1;32m     38\u001b[0m ruta_archivo \u001b[38;5;241m=\u001b[39m os\u001b[38;5;241m.\u001b[39mpath\u001b[38;5;241m.\u001b[39mjoin(directorio, nombre_archivo)\n\u001b[1;32m     40\u001b[0m \u001b[38;5;66;03m# Leer el archivo CSV\u001b[39;00m\n\u001b[0;32m---> 41\u001b[0m alumnos \u001b[38;5;241m=\u001b[39m \u001b[43mleer_csv\u001b[49m\u001b[43m(\u001b[49m\u001b[43mruta_archivo\u001b[49m\u001b[43m)\u001b[49m\n\u001b[1;32m     43\u001b[0m \u001b[38;5;66;03m# Extraer las notas en dos listas separadas\u001b[39;00m\n\u001b[1;32m     44\u001b[0m notas1 \u001b[38;5;241m=\u001b[39m [alumno[\u001b[38;5;124m\"\u001b[39m\u001b[38;5;124mnota1\u001b[39m\u001b[38;5;124m\"\u001b[39m] \u001b[38;5;28;01mfor\u001b[39;00m alumno \u001b[38;5;129;01min\u001b[39;00m alumnos]\n",
      "Cell \u001b[0;32mIn[27], line 12\u001b[0m, in \u001b[0;36mleer_csv\u001b[0;34m(ruta_archivo)\u001b[0m\n\u001b[1;32m      9\u001b[0m     lector \u001b[38;5;241m=\u001b[39m csv\u001b[38;5;241m.\u001b[39mDictReader(archivo)\n\u001b[1;32m     10\u001b[0m     \u001b[38;5;28;01mfor\u001b[39;00m fila \u001b[38;5;129;01min\u001b[39;00m lector:\n\u001b[1;32m     11\u001b[0m         alumnos\u001b[38;5;241m.\u001b[39mappend({\n\u001b[0;32m---> 12\u001b[0m             \u001b[38;5;124m\"\u001b[39m\u001b[38;5;124mnombre\u001b[39m\u001b[38;5;124m\"\u001b[39m: \u001b[43mfila\u001b[49m\u001b[43m[\u001b[49m\u001b[38;5;124;43m\"\u001b[39;49m\u001b[38;5;124;43mnombre\u001b[39;49m\u001b[38;5;124;43m\"\u001b[39;49m\u001b[43m]\u001b[49m,\n\u001b[1;32m     13\u001b[0m             \u001b[38;5;124m\"\u001b[39m\u001b[38;5;124mnota1\u001b[39m\u001b[38;5;124m\"\u001b[39m: \u001b[38;5;28mint\u001b[39m(fila[\u001b[38;5;124m\"\u001b[39m\u001b[38;5;124mnota1\u001b[39m\u001b[38;5;124m\"\u001b[39m]),\n\u001b[1;32m     14\u001b[0m             \u001b[38;5;124m\"\u001b[39m\u001b[38;5;124mnota2\u001b[39m\u001b[38;5;124m\"\u001b[39m: \u001b[38;5;28mint\u001b[39m(fila[\u001b[38;5;124m\"\u001b[39m\u001b[38;5;124mnota2\u001b[39m\u001b[38;5;124m\"\u001b[39m])\n\u001b[1;32m     15\u001b[0m         })\n\u001b[1;32m     16\u001b[0m \u001b[38;5;28;01mreturn\u001b[39;00m alumnos\n",
      "\u001b[0;31mKeyError\u001b[0m: 'nombre'"
     ]
    }
   ],
   "source": [
    "import csv\n",
    "import math\n",
    "import os\n",
    "\n",
    "# Función para leer el archivo CSV y devolver una lista de diccionarios\n",
    "def leer_csv(ruta_archivo):\n",
    "    alumnos = []\n",
    "    with open(ruta_archivo, mode='r') as archivo:\n",
    "        lector = csv.DictReader(archivo)\n",
    "        for fila in lector:\n",
    "            alumnos.append({\n",
    "                \"nombre\": fila[\"nombre\"],\n",
    "                \"nota1\": int(fila[\"nota1\"]),\n",
    "                \"nota2\": int(fila[\"nota2\"])\n",
    "            })\n",
    "    return alumnos\n",
    "\n",
    "# Función para calcular la media de una lista de números\n",
    "def calcular_media(notas):\n",
    "    return sum(notas) / len(notas)\n",
    "\n",
    "# Función para calcular la varianza de una lista de números\n",
    "def calcular_varianza(notas, media):\n",
    "    return sum((nota - media) ** 2 for nota in notas) / len(notas)\n",
    "\n",
    "# Función para escribir los datos actualizados en el archivo CSV\n",
    "def escribir_csv(ruta_archivo, alumnos):\n",
    "    with open(ruta_archivo, mode='w', newline='') as archivo:\n",
    "        campos = [\"nombre\", \"nota1\", \"nota2\", \"media\", \"varianza\"]\n",
    "        escritor = csv.DictWriter(archivo, fieldnames=campos)\n",
    "        escritor.writeheader()\n",
    "        for alumno in alumnos:\n",
    "            escritor.writerow(alumno)\n",
    "\n",
    "# Ruta del archivo CSV\n",
    "directorio = '/home/azureuser/cloudfiles/code/Users/training.netmindemi/workspace/reposphy/datos/'\n",
    "nombre_archivo = 'notas.csv'\n",
    "ruta_archivo = os.path.join(directorio, nombre_archivo)\n",
    "\n",
    "# Leer el archivo CSV\n",
    "alumnos = leer_csv(ruta_archivo)\n",
    "\n",
    "# Extraer las notas en dos listas separadas\n",
    "notas1 = [alumno[\"nota1\"] for alumno in alumnos]\n",
    "notas2 = [alumno[\"nota2\"] for alumno in alumnos]\n",
    "\n",
    "# Calcular la media y la varianza de las notas\n",
    "media_nota1 = calcular_media(notas1)\n",
    "media_nota2 = calcular_media(notas2)\n",
    "varianza_nota1 = calcular_varianza(notas1, media_nota1)\n",
    "varianza_nota2 = calcular_varianza(notas2, media_nota2)\n",
    "\n",
    "# Añadir la nota media y la varianza a cada alumno\n",
    "for alumno in alumnos:\n",
    "    alumno[\"media\"] = (alumno[\"nota1\"] + alumno[\"nota2\"]) / 2\n",
    "    alumno[\"varianza\"] = (varianza_nota1 + varianza_nota2) / 2\n",
    "\n",
    "# Escribir los datos actualizados en el archivo CSV\n",
    "escribir_csv(ruta_archivo, alumnos)\n"
   ]
  }
 ],
 "metadata": {
  "kernelspec": {
   "display_name": "Python 3 (ipykernel)",
   "language": "python",
   "name": "python3"
  },
  "language_info": {
   "codemirror_mode": {
    "name": "ipython",
    "version": 3
   },
   "file_extension": ".py",
   "mimetype": "text/x-python",
   "name": "python",
   "nbconvert_exporter": "python",
   "pygments_lexer": "ipython3",
   "version": "3.10.11"
  }
 },
 "nbformat": 4,
 "nbformat_minor": 2
}
