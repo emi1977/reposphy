{
 "cells": [
  {
   "cell_type": "code",
   "execution_count": 1,
   "metadata": {},
   "outputs": [
    {
     "name": "stdout",
     "output_type": "stream",
     "text": [
      "Hola mundo\n",
      "Hola Ric\n",
      "Hola Anna\n",
      "estas son unas palabras\n"
     ]
    }
   ],
   "source": [
    "def ImprimeTexto(texto):\n",
    "    print(texto)\n",
    "\n",
    "palabras='estas son unas palabras'\n",
    "\n",
    "ImprimeTexto('Hola mundo')\n",
    "ImprimeTexto('Hola Ric')\n",
    "ImprimeTexto('Hola Anna')\n",
    "\n",
    "ImprimeTexto(palabras)\n",
    "    "
   ]
  },
  {
   "cell_type": "code",
   "execution_count": 4,
   "metadata": {},
   "outputs": [
    {
     "name": "stdout",
     "output_type": "stream",
     "text": [
      "esto son unas palabras\n",
      "nuevas palabras\n"
     ]
    }
   ],
   "source": [
    "def ImprimeTexto(texto):\n",
    "    print(texto)\n",
    "\n",
    "texto='esto son unas palabras'\n",
    "ImprimeTexto(texto)\n",
    "\n",
    "texto='nuevas palabras'\n",
    "ImprimeTexto(texto)"
   ]
  },
  {
   "cell_type": "code",
   "execution_count": 8,
   "metadata": {},
   "outputs": [
    {
     "name": "stdout",
     "output_type": "stream",
     "text": [
      "esto son unas palabras!!!\n",
      "esto son unas palabras\n"
     ]
    }
   ],
   "source": [
    "texto='esto son unas palabras'\n",
    "def ImprimeTexto(texto):\n",
    "    texto=texto +'!!!'\n",
    "    print(texto)\n",
    "\n",
    "\n",
    "\n",
    "ImprimeTexto(texto)\n",
    "print(texto)"
   ]
  },
  {
   "cell_type": "code",
   "execution_count": 11,
   "metadata": {},
   "outputs": [
    {
     "name": "stdout",
     "output_type": "stream",
     "text": [
      "esto son unas palabras!!!\n",
      "22\n",
      "esto son unas palabras\n"
     ]
    }
   ],
   "source": [
    "texto='esto son unas palabras'\n",
    "un_numero=22\n",
    "def ImprimeTexto(texto):\n",
    "    texto=texto +'!!!'\n",
    "    print(texto)\n",
    "    print(un_numero)\n",
    "\n",
    "\n",
    "\n",
    "ImprimeTexto(texto)\n",
    "print(texto)"
   ]
  },
  {
   "cell_type": "code",
   "execution_count": 12,
   "metadata": {},
   "outputs": [
    {
     "name": "stdout",
     "output_type": "stream",
     "text": [
      "esto son unas palabras!!!\n"
     ]
    },
    {
     "ename": "UnboundLocalError",
     "evalue": "local variable 'un_numero' referenced before assignment",
     "output_type": "error",
     "traceback": [
      "\u001b[0;31m---------------------------------------------------------------------------\u001b[0m",
      "\u001b[0;31mUnboundLocalError\u001b[0m                         Traceback (most recent call last)",
      "Cell \u001b[0;32mIn[12], line 11\u001b[0m\n\u001b[1;32m      6\u001b[0m     un_numero \u001b[38;5;241m+\u001b[39m\u001b[38;5;241m=\u001b[39m\u001b[38;5;241m10\u001b[39m\n\u001b[1;32m      7\u001b[0m     \u001b[38;5;28mprint\u001b[39m(un_numero)\n\u001b[0;32m---> 11\u001b[0m \u001b[43mImprimeTexto\u001b[49m\u001b[43m(\u001b[49m\u001b[43mtexto\u001b[49m\u001b[43m)\u001b[49m\n\u001b[1;32m     12\u001b[0m \u001b[38;5;28mprint\u001b[39m(texto)\n",
      "Cell \u001b[0;32mIn[12], line 6\u001b[0m, in \u001b[0;36mImprimeTexto\u001b[0;34m(texto)\u001b[0m\n\u001b[1;32m      4\u001b[0m texto\u001b[38;5;241m=\u001b[39mtexto \u001b[38;5;241m+\u001b[39m\u001b[38;5;124m'\u001b[39m\u001b[38;5;124m!!!\u001b[39m\u001b[38;5;124m'\u001b[39m\n\u001b[1;32m      5\u001b[0m \u001b[38;5;28mprint\u001b[39m(texto)\n\u001b[0;32m----> 6\u001b[0m un_numero \u001b[38;5;241m+\u001b[39m\u001b[38;5;241m=\u001b[39m\u001b[38;5;241m10\u001b[39m\n\u001b[1;32m      7\u001b[0m \u001b[38;5;28mprint\u001b[39m(un_numero)\n",
      "\u001b[0;31mUnboundLocalError\u001b[0m: local variable 'un_numero' referenced before assignment"
     ]
    }
   ],
   "source": [
    "texto='esto son unas palabras'\n",
    "un_numero=22\n",
    "def ImprimeTexto(texto):\n",
    "    texto=texto +'!!!'\n",
    "    print(texto)\n",
    "    un_numero +=10\n",
    "    print(un_numero)\n",
    "\n",
    "\n",
    "\n",
    "ImprimeTexto(texto)\n",
    "print(texto)"
   ]
  },
  {
   "cell_type": "code",
   "execution_count": 16,
   "metadata": {},
   "outputs": [
    {
     "name": "stdout",
     "output_type": "stream",
     "text": [
      "350.0\n",
      "informe con: 350.0\n"
     ]
    }
   ],
   "source": [
    "def calculo_comision(ventas,porc):\n",
    "    comision=sum(ventas)*porc/100\n",
    "    print(comision)\n",
    "    return comision\n",
    "\n",
    "ventas_reales=[100,3000,400]\n",
    "porcentaje=10\n",
    "\n",
    "valor_comision=calculo_comision(ventas_reales,porcentaje)\n",
    "print('informe con:', valor_comision)"
   ]
  },
  {
   "cell_type": "code",
   "execution_count": 17,
   "metadata": {},
   "outputs": [
    {
     "name": "stdout",
     "output_type": "stream",
     "text": [
      "[1, 2, 3, 4]\n"
     ]
    }
   ],
   "source": [
    "def añadirelemlista(unaLista):\n",
    "    unaLista.append(4)\n",
    "\n",
    "l1=[1,2,3]\n",
    "añadirelemlista(l1)\n",
    "print(l1)"
   ]
  },
  {
   "cell_type": "code",
   "execution_count": 18,
   "metadata": {},
   "outputs": [
    {
     "name": "stdout",
     "output_type": "stream",
     "text": [
      "[1, 2, 3, 4]\n",
      "[1, 2, 3]\n"
     ]
    }
   ],
   "source": [
    "def añadirelemlista(unaLista):\n",
    "    interno= list(unaLista)\n",
    "    interno.append(4)\n",
    "    return interno\n",
    "    \n",
    "\n",
    "l1=[1,2,3]\n",
    "l2=añadirelemlista(l1)\n",
    "print(l2)\n",
    "print(l1)"
   ]
  },
  {
   "cell_type": "code",
   "execution_count": 19,
   "metadata": {},
   "outputs": [
    {
     "data": {
      "text/plain": [
       "3"
      ]
     },
     "execution_count": 19,
     "metadata": {},
     "output_type": "execute_result"
    }
   ],
   "source": [
    "def suma(a,b):\n",
    "    return a+b\n",
    "val=suma(b=1,a=2)\n",
    "val"
   ]
  },
  {
   "cell_type": "code",
   "execution_count": 20,
   "metadata": {},
   "outputs": [
    {
     "name": "stdout",
     "output_type": "stream",
     "text": [
      "(1, 2, 3, 4)\n"
     ]
    }
   ],
   "source": [
    "def suma2(*args):\n",
    "    print(args)\n",
    "\n",
    "suma2(1,2,3,4)"
   ]
  },
  {
   "cell_type": "code",
   "execution_count": null,
   "metadata": {},
   "outputs": [
    {
     "name": "stdout",
     "output_type": "stream",
     "text": [
      "(1, 2, 3, 4)\n",
      "1 2 3 4\n"
     ]
    }
   ],
   "source": [
    "def suma2(*args):\n",
    "    (a,b,c,d)=args\n",
    "    print(args)\n",
    "    print(a,b,c,d)\n",
    "    \n",
    "\n",
    "suma2(1,2,3,4)"
   ]
  },
  {
   "cell_type": "code",
   "execution_count": 23,
   "metadata": {},
   "outputs": [
    {
     "name": "stdout",
     "output_type": "stream",
     "text": [
      "(1, 2, 3, 4)\n",
      "1 2 3 4\n",
      "2 4 3 4\n"
     ]
    }
   ],
   "source": [
    "def suma2(*args):\n",
    "    (a,b,c,d)=args\n",
    "    print(args)\n",
    "    print(a,b,c,d)\n",
    "    return(a*2,b*2,c,d)\n",
    "\n",
    "w,x,y,z=suma2(1,2,3,4)\n",
    "print(w,x,y,z)"
   ]
  },
  {
   "cell_type": "code",
   "execution_count": null,
   "metadata": {},
   "outputs": [],
   "source": []
  },
  {
   "cell_type": "code",
   "execution_count": 25,
   "metadata": {},
   "outputs": [
    {
     "name": "stdout",
     "output_type": "stream",
     "text": [
      "(1, 2, 3, 4)\n",
      "1 2 3 4\n",
      "1 2 3 4\n"
     ]
    }
   ],
   "source": [
    "def suma2(*args):\n",
    "    (a,b,c,d)=args\n",
    "    print(args)\n",
    "    print(a,b,c,d)\n",
    "    return(a,b,c,d)\n",
    "\n",
    "w,x,y,z=suma2(1,2,3,4)\n",
    "print(w,x,y,z)"
   ]
  },
  {
   "cell_type": "code",
   "execution_count": 26,
   "metadata": {},
   "outputs": [
    {
     "name": "stdout",
     "output_type": "stream",
     "text": [
      "(1, 2, 3, 4)\n",
      "1 2 3 4\n",
      "2 4 3 4\n"
     ]
    }
   ],
   "source": [
    "def suma2(*args):\n",
    "    (a,b,c,d)=args\n",
    "    print(args)\n",
    "    print(a,b,c,d)\n",
    "    return(a*2,b*2,c,d)\n",
    "\n",
    "w,x,y,z=suma2(1,2,3,4)\n",
    "print(w,x,y,z)"
   ]
  },
  {
   "cell_type": "code",
   "execution_count": 27,
   "metadata": {},
   "outputs": [
    {
     "name": "stdout",
     "output_type": "stream",
     "text": [
      "1 2 3 4 7 90\n"
     ]
    }
   ],
   "source": [
    "def suma3(a,b,*args):\n",
    "    print(a,b,*args)\n",
    "suma3(1,2,3,4,7,90)"
   ]
  },
  {
   "cell_type": "code",
   "execution_count": 30,
   "metadata": {},
   "outputs": [
    {
     "name": "stdout",
     "output_type": "stream",
     "text": [
      "{'a': 1, 'b': 2, 'c': 3}\n"
     ]
    }
   ],
   "source": [
    "def suma4(**args): #genera un diccionario con sólo * genera tupla\n",
    "    print(args)\n",
    "suma4(a=1,b=2,c=3)"
   ]
  },
  {
   "cell_type": "code",
   "execution_count": 31,
   "metadata": {},
   "outputs": [
    {
     "name": "stdout",
     "output_type": "stream",
     "text": [
      "1 2\n",
      "1 0\n"
     ]
    }
   ],
   "source": [
    "def suma5(a,b=0):\n",
    "    print(a,b)\n",
    "\n",
    "suma5(1,2)\n",
    "suma5(1)\n"
   ]
  },
  {
   "cell_type": "code",
   "execution_count": 32,
   "metadata": {},
   "outputs": [
    {
     "data": {
      "text/plain": [
       "function"
      ]
     },
     "execution_count": 32,
     "metadata": {},
     "output_type": "execute_result"
    }
   ],
   "source": [
    "def cuadrado(n):\n",
    "    return n**2\n",
    "\n",
    "cuadroL=lambda N:n**2\n",
    "type(cuadroL)"
   ]
  },
  {
   "cell_type": "code",
   "execution_count": 33,
   "metadata": {},
   "outputs": [
    {
     "name": "stdout",
     "output_type": "stream",
     "text": [
      "625\n"
     ]
    }
   ],
   "source": [
    "def cuadrado(n):\n",
    "    return n**2\n",
    "\n",
    "cuadradoL=lambda N:n**2\n",
    "type(cuadroL)\n",
    "print(cuadrado(25))"
   ]
  },
  {
   "cell_type": "code",
   "execution_count": 35,
   "metadata": {},
   "outputs": [
    {
     "name": "stdout",
     "output_type": "stream",
     "text": [
      "625\n",
      "625\n"
     ]
    }
   ],
   "source": [
    "def cuadrado(n):\n",
    "    return n**2\n",
    "\n",
    "cuadradoL=lambda n:n**2\n",
    "type(cuadroL)\n",
    "print(cuadrado(25))\n",
    "print(cuadradoL(25))"
   ]
  },
  {
   "cell_type": "code",
   "execution_count": null,
   "metadata": {},
   "outputs": [],
   "source": []
  }
 ],
 "metadata": {
  "kernelspec": {
   "display_name": "Python 3 (ipykernel)",
   "language": "python",
   "name": "python3"
  },
  "language_info": {
   "codemirror_mode": {
    "name": "ipython",
    "version": 3
   },
   "file_extension": ".py",
   "mimetype": "text/x-python",
   "name": "python",
   "nbconvert_exporter": "python",
   "pygments_lexer": "ipython3",
   "version": "3.10.11"
  }
 },
 "nbformat": 4,
 "nbformat_minor": 2
}
