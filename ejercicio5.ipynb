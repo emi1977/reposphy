{
 "cells": [
  {
   "cell_type": "code",
   "execution_count": 1,
   "metadata": {},
   "outputs": [
    {
     "name": "stdout",
     "output_type": "stream",
     "text": [
      "True\n",
      "False\n"
     ]
    }
   ],
   "source": [
    "#Implementa una función que verifique si una palabra dada es un palíndromo\n",
    "def es_palindromo(palabra):\n",
    "    palabra=palabra.lower().replace(\" \",\"\") #convierte a minúsculas y elimina espacios\n",
    "    return palabra==palabra[::-1]\n",
    "\n",
    "print(es_palindromo(\"Reconocer\"))\n",
    "print(es_palindromo(\"hola\"))\n"
   ]
  },
  {
   "cell_type": "code",
   "execution_count": 2,
   "metadata": {},
   "outputs": [
    {
     "name": "stdout",
     "output_type": "stream",
     "text": [
      "True\n",
      "False\n"
     ]
    }
   ],
   "source": [
    "#Implementa una función que verifique si una palabra dada es un palíndromo\n",
    "def es_palindromo(palabra):\n",
    "    \n",
    "    return palabra==palabra[::-1] #para este caso valdría sólo así porque no hay mayúsculas y es una sóla palabra\n",
    "\n",
    "print(es_palindromo(\"reconocer\"))\n",
    "print(es_palindromo(\"hola\"))"
   ]
  }
 ],
 "metadata": {
  "kernelspec": {
   "display_name": "Python 3.8 - AzureML",
   "language": "python",
   "name": "python38-azureml"
  },
  "language_info": {
   "codemirror_mode": {
    "name": "ipython",
    "version": 3
   },
   "file_extension": ".py",
   "mimetype": "text/x-python",
   "name": "python",
   "nbconvert_exporter": "python",
   "pygments_lexer": "ipython3",
   "version": "3.10.11"
  }
 },
 "nbformat": 4,
 "nbformat_minor": 2
}
